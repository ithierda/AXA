{
 "cells": [
  {
   "cell_type": "code",
   "execution_count": 4,
   "metadata": {},
   "outputs": [],
   "source": [
    "import pandas as pd\n",
    "import json\n",
    "\n",
    "list = []"
   ]
  },
  {
   "cell_type": "code",
   "execution_count": 8,
   "metadata": {},
   "outputs": [],
   "source": [
    "df = pd.read_csv(\"maritime.csv\", sep=';')\n",
    "\n",
    "\n",
    "for i, row in df.iterrows():\n",
    "\n",
    "    source = {}\n",
    "    source.update({'name': row['name'] })\n",
    "\n",
    "    description = ''\n",
    "    source.update({'description': description})\n",
    "\n",
    "    source.update({'type': \"Type of Boat\"})\n",
    "    \n",
    "    emissions = {}\n",
    "    emissions.update({\"co2e\" : {}})\n",
    "    \n",
    "    co2e = emissions[\"co2e\"]\n",
    "    co2e.update({'base_unit': \"kg\"})     \n",
    "    co2e.update({'value': row['value']})\n",
    "    co2e.update({'unit': \"t/km\"})\n",
    "    co2e.update({'reference_url': \"https://base-empreinte.ademe.fr/donnees/jeu-donnees\"})\n",
    "    \n",
    "    \n",
    "    \n",
    "    source.update({'emissions': emissions})\n",
    "    list.append(source)  "
   ]
  },
  {
   "cell_type": "code",
   "execution_count": 9,
   "metadata": {},
   "outputs": [],
   "source": [
    "with open('maritime.json', 'w', encoding='utf-8') as f:\n",
    "    json.dump(list, f, ensure_ascii=False, indent=4)"
   ]
  },
  {
   "cell_type": "code",
   "execution_count": null,
   "metadata": {},
   "outputs": [],
   "source": []
  }
 ],
 "metadata": {
  "kernelspec": {
   "display_name": "Python 3",
   "language": "python",
   "name": "python3"
  },
  "language_info": {
   "codemirror_mode": {
    "name": "ipython",
    "version": 3
   },
   "file_extension": ".py",
   "mimetype": "text/x-python",
   "name": "python",
   "nbconvert_exporter": "python",
   "pygments_lexer": "ipython3",
   "version": "3.9.6"
  },
  "orig_nbformat": 4
 },
 "nbformat": 4,
 "nbformat_minor": 2
}
