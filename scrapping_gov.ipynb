{
 "cells": [
  {
   "attachments": {},
   "cell_type": "markdown",
   "metadata": {},
   "source": [
    "## Import the packages required"
   ]
  },
  {
   "cell_type": "code",
   "execution_count": 68,
   "metadata": {},
   "outputs": [],
   "source": [
    "from selenium import webdriver\n",
    "import pandas as pd\n",
    "from selenium.webdriver.common.by import By\n",
    "import csv\n",
    "import time\n",
    "import re\n",
    "from selenium.common.exceptions import StaleElementReferenceException\n",
    "from selenium.common import exceptions  \n",
    "from selenium.webdriver.support.ui import WebDriverWait\n",
    "from selenium.webdriver.support import expected_conditions as EC\n"
   ]
  },
  {
   "attachments": {},
   "cell_type": "markdown",
   "metadata": {},
   "source": [
    "### Define the website for the scrapping"
   ]
  },
  {
   "cell_type": "code",
   "execution_count": 69,
   "metadata": {},
   "outputs": [],
   "source": [
    "driver = webdriver.Chrome()\n",
    "driver.get(\"https://base-empreinte.ademe.fr/\")"
   ]
  },
  {
   "attachments": {},
   "cell_type": "markdown",
   "metadata": {},
   "source": [
    "### Have access to the database"
   ]
  },
  {
   "cell_type": "code",
   "execution_count": 70,
   "metadata": {},
   "outputs": [],
   "source": [
    "time.sleep(3)\n",
    "driver.find_element(By.XPATH, '/html/body/app-root/main/div/app-home/div/div[1]/div/div[1]/a[1]/span[1]/mat-icon').click()\n",
    "time.sleep(3)\n",
    "driver.find_element(By.XPATH, '/html/body/app-root/main/div/app-page-login-signup/app-form-login-signup/mat-card/mat-card-actions/div[2]/button/span[1]').click()\n",
    "time.sleep(3)\n",
    "\n"
   ]
  },
  {
   "attachments": {},
   "cell_type": "markdown",
   "metadata": {},
   "source": [
    "### Login the website"
   ]
  },
  {
   "cell_type": "code",
   "execution_count": 71,
   "metadata": {},
   "outputs": [],
   "source": [
    "user_id = 'name@example.com'\n",
    "passw = 'yourpassword'\n",
    "input_name = driver.find_element(By.XPATH,'//*[@id=\"username\"]')\n",
    "input_name.send_keys(user_id)\n",
    "input_passw = driver.find_element(By.XPATH,'//*[@id=\"password\"]')\n",
    "input_passw.send_keys(passw)\n",
    "driver.find_element(By.XPATH, '//*[@id=\"kc-login\"]').click()"
   ]
  },
  {
   "attachments": {},
   "cell_type": "markdown",
   "metadata": {},
   "source": [
    "## Have access to the website again"
   ]
  },
  {
   "cell_type": "code",
   "execution_count": 72,
   "metadata": {},
   "outputs": [],
   "source": [
    "driver.find_element(By.XPATH, '/html/body/app-root/main/div/app-home/div/div[1]/div/div[1]/a[1]/span[1]').click()"
   ]
  },
  {
   "attachments": {},
   "cell_type": "markdown",
   "metadata": {},
   "source": [
    "### Scroll to the informations"
   ]
  },
  {
   "cell_type": "code",
   "execution_count": 73,
   "metadata": {},
   "outputs": [],
   "source": [
    "from selenium.webdriver.common.action_chains import ActionChains"
   ]
  },
  {
   "cell_type": "code",
   "execution_count": 74,
   "metadata": {},
   "outputs": [],
   "source": [
    "driver.execute_script(\"window.scrollBy(0,document.body.scrollHeight)\")"
   ]
  },
  {
   "cell_type": "code",
   "execution_count": 75,
   "metadata": {},
   "outputs": [],
   "source": [
    "## accept the cookies\n",
    "driver.find_element(By.XPATH, '//*[@id=\"tarteaucitronPersonalize2\"]').click()\n",
    "time.sleep(3)"
   ]
  },
  {
   "cell_type": "code",
   "execution_count": 76,
   "metadata": {},
   "outputs": [],
   "source": [
    "driver.execute_script(\"window.scrollBy(0,document.body.scrollHeight)\")"
   ]
  },
  {
   "attachments": {},
   "cell_type": "markdown",
   "metadata": {},
   "source": [
    "### Have access to the food part"
   ]
  },
  {
   "cell_type": "code",
   "execution_count": 77,
   "metadata": {},
   "outputs": [],
   "source": [
    "\n",
    "df = pd.DataFrame()\n",
    "df['name'] = None\n",
    "df['value'] = None"
   ]
  },
  {
   "cell_type": "code",
   "execution_count": 78,
   "metadata": {},
   "outputs": [
    {
     "data": {
      "text/plain": [
       "'\\nfirst_categories = driver.find_elements(By.CLASS_NAME, \"name\")\\n\\ncategory_1 = []\\nfor category in first_categories : \\n    time.sleep(1)\\n    category_1.append(category.text)\\n    category.click()\\n    time.sleep(1)\\n\\n    second_categories = driver.find_elements(By.CLASS_NAME, \\'name\\')\\n    category_2 = []\\n    for second_category in second_categories :\\n        category_2.append(second_category.text)\\n        second_category.click()\\n        time.sleep(1)\\n    \\n        third_categories = driver.find_elements(By.CLASS_NAME, \\'name\\')\\n        category_3 = []\\n        for third_category in third_categories :\\n            category_3.append(third_category.text)\\n            third_category.click()\\n            time.sleep(1)\\n\\n            fourth_categories = driver.find_elements(By.CLASS_NAME, \\'name\\')\\n            category_4 = []\\n            for fourth_category in fourth_categories :\\n                category_4.append(fourth_category.text)\\n                fourth_category.click()\\n                time.sleep(1)\\n\\n                fifth_categories = driver.find_elements(By.CLASS_NAME, \\'name\\')\\n                category_5 = []\\n                for fifth_category in fifth_categories :\\n                    category_5.append(fifth_category.text)\\n                    fifth_category.click()\\n                    time.sleep(1)\\n\\n                    sixth_categories = driver.find_elements(By.CLASS_NAME, \\'name\\')\\n                    for sixth_category in sixth_categories :\\n                        category_6 = []\\n                        category_6.append(sixth_category.text)\\n                        sixth_category.click()\\n                        time.sleep(1)\\n\\n                        time.sleep(1)\\n                        names = driver.find_elements(By.CLASS_NAME, \"title\")\\n                        values = driver.find_elements(By.CLASS_NAME, \"value\")\\n\\n                        noms = []\\n                        for name in names:\\n                            noms.append(name.text)\\n                        \\n                        valeurs = []  \\n                        for value in values:\\n                            valeurs.append(value.text)\\n\\n                        # Create a temporary dataframe with the scraped data\\n                        data = list(zip(category_1, category_2, category_3, category_4, category_5, category_6, noms, valeurs))\\n                        temp_df = pd.DataFrame(data, columns=[\\'first_category\\', \\'second_category\\', \\'third_category\\', \\'fourth_category\\', \\'fifth_category\\', \\'sixth_category\\', \\'name\\', \\'value\\'])\\n\\n                        # Append the temporary dataframe to the main dataframe\\n                        df = pd.concat([df, temp_df], ignore_index=True)\\n\\n                        driver.find_element(By.XPATH,\\'/html/body/app-root/main/div/app-jeu-donnees/ul/li[6]/a\\').click()\\n                        time.sleep(1)\\n                    \\n                    driver.find_element(By.XPATH,\\'/html/body/app-root/main/div/app-jeu-donnees/ul/li[5]/a\\').click()\\n                    time.sleep(1)\\n                \\n                driver.find_element(By.XPATH,\\'/html/body/app-root/main/div//app-jeu-donnees/ul/li[4]/a\\').click()\\n                time.sleep(1)\\n            \\n            driver.find_element(By.XPATH,\\'/html/body/app-root/main/div//app-jeu-donnees/ul/li[3]/a\\').click()\\n            time.sleep(1)\\n        \\n        driver.find_element(By.XPATH,\\'/html/body/app-root/main/div//app-jeu-donnees/ul/li[2]/a\\').click()\\n        time.sleep(1)\\n\\n    driver.find_element(By.XPATH,\\'/html/body/app-root/main/div//app-jeu-donnees/ul/li[1]/a\\').click()\\n    time.sleep(1)\\n\\n\\n'"
      ]
     },
     "execution_count": 78,
     "metadata": {},
     "output_type": "execute_result"
    }
   ],
   "source": [
    "'''\n",
    "first_categories = driver.find_elements(By.CLASS_NAME, \"name\")\n",
    "\n",
    "category_1 = []\n",
    "for category in first_categories : \n",
    "    time.sleep(1)\n",
    "    category_1.append(category.text)\n",
    "    category.click()\n",
    "    time.sleep(1)\n",
    "\n",
    "    second_categories = driver.find_elements(By.CLASS_NAME, 'name')\n",
    "    category_2 = []\n",
    "    for second_category in second_categories :\n",
    "        category_2.append(second_category.text)\n",
    "        second_category.click()\n",
    "        time.sleep(1)\n",
    "    \n",
    "        third_categories = driver.find_elements(By.CLASS_NAME, 'name')\n",
    "        category_3 = []\n",
    "        for third_category in third_categories :\n",
    "            category_3.append(third_category.text)\n",
    "            third_category.click()\n",
    "            time.sleep(1)\n",
    "\n",
    "            fourth_categories = driver.find_elements(By.CLASS_NAME, 'name')\n",
    "            category_4 = []\n",
    "            for fourth_category in fourth_categories :\n",
    "                category_4.append(fourth_category.text)\n",
    "                fourth_category.click()\n",
    "                time.sleep(1)\n",
    "\n",
    "                fifth_categories = driver.find_elements(By.CLASS_NAME, 'name')\n",
    "                category_5 = []\n",
    "                for fifth_category in fifth_categories :\n",
    "                    category_5.append(fifth_category.text)\n",
    "                    fifth_category.click()\n",
    "                    time.sleep(1)\n",
    "\n",
    "                    sixth_categories = driver.find_elements(By.CLASS_NAME, 'name')\n",
    "                    for sixth_category in sixth_categories :\n",
    "                        category_6 = []\n",
    "                        category_6.append(sixth_category.text)\n",
    "                        sixth_category.click()\n",
    "                        time.sleep(1)\n",
    "\n",
    "                        time.sleep(1)\n",
    "                        names = driver.find_elements(By.CLASS_NAME, \"title\")\n",
    "                        values = driver.find_elements(By.CLASS_NAME, \"value\")\n",
    "\n",
    "                        noms = []\n",
    "                        for name in names:\n",
    "                            noms.append(name.text)\n",
    "                        \n",
    "                        valeurs = []  \n",
    "                        for value in values:\n",
    "                            valeurs.append(value.text)\n",
    "\n",
    "                        # Create a temporary dataframe with the scraped data\n",
    "                        data = list(zip(category_1, category_2, category_3, category_4, category_5, category_6, noms, valeurs))\n",
    "                        temp_df = pd.DataFrame(data, columns=['first_category', 'second_category', 'third_category', 'fourth_category', 'fifth_category', 'sixth_category', 'name', 'value'])\n",
    "\n",
    "                        # Append the temporary dataframe to the main dataframe\n",
    "                        df = pd.concat([df, temp_df], ignore_index=True)\n",
    "\n",
    "                        driver.find_element(By.XPATH,'/html/body/app-root/main/div/app-jeu-donnees/ul/li[6]/a').click()\n",
    "                        time.sleep(1)\n",
    "                    \n",
    "                    driver.find_element(By.XPATH,'/html/body/app-root/main/div/app-jeu-donnees/ul/li[5]/a').click()\n",
    "                    time.sleep(1)\n",
    "                \n",
    "                driver.find_element(By.XPATH,'/html/body/app-root/main/div//app-jeu-donnees/ul/li[4]/a').click()\n",
    "                time.sleep(1)\n",
    "            \n",
    "            driver.find_element(By.XPATH,'/html/body/app-root/main/div//app-jeu-donnees/ul/li[3]/a').click()\n",
    "            time.sleep(1)\n",
    "        \n",
    "        driver.find_element(By.XPATH,'/html/body/app-root/main/div//app-jeu-donnees/ul/li[2]/a').click()\n",
    "        time.sleep(1)\n",
    "\n",
    "    driver.find_element(By.XPATH,'/html/body/app-root/main/div//app-jeu-donnees/ul/li[1]/a').click()\n",
    "    time.sleep(1)\n",
    "\n",
    "\n",
    "'''\n"
   ]
  },
  {
   "cell_type": "code",
   "execution_count": 79,
   "metadata": {},
   "outputs": [],
   "source": [
    "driver.find_element(By.XPATH, \"/html/body/app-root/main/div/app-jeu-donnees/mat-card[2]/mat-card-content/app-jeu-donnees-category-list/div/div[3]/div[1]/p[1]\").click()\n",
    "time.sleep(1)\n",
    "driver.find_element(By.XPATH, \"/html/body/app-root/main/div/app-jeu-donnees/mat-card[2]/mat-card-content/app-jeu-donnees-category-list/div/div[1]/div[1]/p[1]\").click()\n",
    "time.sleep(1)\n",
    "driver.find_element(By.XPATH, \"/html/body/app-root/main/div/app-jeu-donnees/mat-card[2]/mat-card-content/app-jeu-donnees-category-list/div/div[4]/div[1]/p[1]\").click()\n",
    "time.sleep(1)"
   ]
  },
  {
   "cell_type": "code",
   "execution_count": 85,
   "metadata": {},
   "outputs": [
    {
     "name": "stderr",
     "output_type": "stream",
     "text": [
      "/var/folders/rq/gbrjppds5pzc_g5hjfc4wvfc0000gn/T/ipykernel_29159/4219691873.py:18: FutureWarning: The frame.append method is deprecated and will be removed from pandas in a future version. Use pandas.concat instead.\n",
      "  df = df.append(temp_df, ignore_index=True)\n"
     ]
    }
   ],
   "source": [
    "driver.find_element(By.XPATH, '/html/body/app-root/main/div/app-jeu-donnees/mat-card[2]/mat-card-content/app-jeu-donnees-category-list/div/div[1]/div[1]/p[1]').click()\n",
    "time.sleep(1)\n",
    "names = driver.find_elements(By.CLASS_NAME, \"title\")\n",
    "values = driver.find_elements(By.CLASS_NAME, \"value\")\n",
    "    \n",
    "noms = []\n",
    "for name in names:\n",
    "    noms.append(name.text)\n",
    "                        \n",
    "valeurs = []  \n",
    "for value in values:\n",
    "    valeurs.append(value.text)\n",
    "\n",
    "# Create a temporary dataframe with the scraped data\n",
    "temp_df = pd.DataFrame({'name': noms, 'value': valeurs})\n",
    "\n",
    "# Append the temporary dataframe to the main dataframe\n",
    "df = df.append(temp_df, ignore_index=True)\n",
    "\n",
    "driver.find_element(By.XPATH, '/html/body/app-root/main/div/app-jeu-donnees/ul/li[4]/a').click()\n",
    "\n",
    "time.sleep(2)"
   ]
  },
  {
   "cell_type": "code",
   "execution_count": 86,
   "metadata": {},
   "outputs": [
    {
     "name": "stderr",
     "output_type": "stream",
     "text": [
      "/var/folders/rq/gbrjppds5pzc_g5hjfc4wvfc0000gn/T/ipykernel_29159/1683605171.py:18: FutureWarning: The frame.append method is deprecated and will be removed from pandas in a future version. Use pandas.concat instead.\n",
      "  df = df.append(temp_df, ignore_index=True)\n"
     ]
    }
   ],
   "source": [
    "driver.find_element(By.XPATH, '/html/body/app-root/main/div/app-jeu-donnees/mat-card[2]/mat-card-content/app-jeu-donnees-category-list/div/div[3]/div[1]/p[1]').click()\n",
    "time.sleep(1)\n",
    "names = driver.find_elements(By.CLASS_NAME, \"title\")\n",
    "values = driver.find_elements(By.CLASS_NAME, \"value\")\n",
    "    \n",
    "noms = []\n",
    "for name in names:\n",
    "    noms.append(name.text)\n",
    "                        \n",
    "valeurs = []  \n",
    "for value in values:\n",
    "    valeurs.append(value.text)\n",
    "\n",
    "# Create a temporary dataframe with the scraped data\n",
    "temp_df = pd.DataFrame({'name': noms, 'value': valeurs})\n",
    "\n",
    "# Append the temporary dataframe to the main dataframe\n",
    "df = df.append(temp_df, ignore_index=True)\n",
    "\n",
    "driver.find_element(By.XPATH, '/html/body/app-root/main/div/app-jeu-donnees/ul/li[4]/a').click()\n",
    "\n",
    "time.sleep(2)"
   ]
  },
  {
   "cell_type": "code",
   "execution_count": 88,
   "metadata": {},
   "outputs": [
    {
     "name": "stderr",
     "output_type": "stream",
     "text": [
      "/var/folders/rq/gbrjppds5pzc_g5hjfc4wvfc0000gn/T/ipykernel_29159/3246738686.py:18: FutureWarning: The frame.append method is deprecated and will be removed from pandas in a future version. Use pandas.concat instead.\n",
      "  df = df.append(temp_df, ignore_index=True)\n"
     ]
    },
    {
     "ename": "NoSuchElementException",
     "evalue": "Message: no such element: Unable to locate element: {\"method\":\"xpath\",\"selector\":\"/html/body/app-root/main/div/app-jeu-donnees/mat-card[2]/mat-card-content/app-jeu-donnees-category-list/div/div[4]/div[1]/p[1]\"}\n  (Session info: chrome=114.0.5735.90)\nStacktrace:\n0   chromedriver                        0x00000001046406b8 chromedriver + 4937400\n1   chromedriver                        0x0000000104637b73 chromedriver + 4901747\n2   chromedriver                        0x00000001041f5616 chromedriver + 435734\n3   chromedriver                        0x0000000104238e0f chromedriver + 712207\n4   chromedriver                        0x00000001042390a1 chromedriver + 712865\n5   chromedriver                        0x000000010427a9a4 chromedriver + 981412\n6   chromedriver                        0x000000010425d03d chromedriver + 860221\n7   chromedriver                        0x0000000104277e76 chromedriver + 970358\n8   chromedriver                        0x000000010425cde3 chromedriver + 859619\n9   chromedriver                        0x000000010422ad7f chromedriver + 654719\n10  chromedriver                        0x000000010422c0de chromedriver + 659678\n11  chromedriver                        0x00000001045fc2ad chromedriver + 4657837\n12  chromedriver                        0x0000000104601130 chromedriver + 4677936\n13  chromedriver                        0x0000000104607def chromedriver + 4705775\n14  chromedriver                        0x000000010460205a chromedriver + 4681818\n15  chromedriver                        0x00000001045d492c chromedriver + 4495660\n16  chromedriver                        0x000000010461f838 chromedriver + 4802616\n17  chromedriver                        0x000000010461f9b7 chromedriver + 4802999\n18  chromedriver                        0x000000010463099f chromedriver + 4872607\n19  libsystem_pthread.dylib             0x00007ff8053e7259 _pthread_start + 125\n20  libsystem_pthread.dylib             0x00007ff8053e2c7b thread_start + 15\n",
     "output_type": "error",
     "traceback": [
      "\u001b[0;31m---------------------------------------------------------------------------\u001b[0m",
      "\u001b[0;31mNoSuchElementException\u001b[0m                    Traceback (most recent call last)",
      "Cell \u001b[0;32mIn[88], line 22\u001b[0m\n\u001b[1;32m     20\u001b[0m driver\u001b[39m.\u001b[39mfind_element(By\u001b[39m.\u001b[39mXPATH, \u001b[39m'\u001b[39m\u001b[39m/html/body/app-root/main/div/app-jeu-donnees/ul/li[4]/a\u001b[39m\u001b[39m'\u001b[39m)\u001b[39m.\u001b[39mclick()\n\u001b[1;32m     21\u001b[0m driver\u001b[39m.\u001b[39mfind_element(By\u001b[39m.\u001b[39mXPATH, \u001b[39m'\u001b[39m\u001b[39m/html/body/app-root/main/div/app-jeu-donnees/ul/li[3]/a\u001b[39m\u001b[39m'\u001b[39m)\u001b[39m.\u001b[39mclick()\n\u001b[0;32m---> 22\u001b[0m driver\u001b[39m.\u001b[39;49mfind_element(By\u001b[39m.\u001b[39;49mXPATH, \u001b[39m'\u001b[39;49m\u001b[39m/html/body/app-root/main/div/app-jeu-donnees/mat-card[2]/mat-card-content/app-jeu-donnees-category-list/div/div[4]/div[1]/p[1]\u001b[39;49m\u001b[39m'\u001b[39;49m)\u001b[39m.\u001b[39mclick()\n\u001b[1;32m     24\u001b[0m time\u001b[39m.\u001b[39msleep(\u001b[39m2\u001b[39m)\n",
      "File \u001b[0;32m~/Library/Python/3.9/lib/python/site-packages/selenium/webdriver/remote/webdriver.py:830\u001b[0m, in \u001b[0;36mWebDriver.find_element\u001b[0;34m(self, by, value)\u001b[0m\n\u001b[1;32m    827\u001b[0m     by \u001b[39m=\u001b[39m By\u001b[39m.\u001b[39mCSS_SELECTOR\n\u001b[1;32m    828\u001b[0m     value \u001b[39m=\u001b[39m \u001b[39mf\u001b[39m\u001b[39m'\u001b[39m\u001b[39m[name=\u001b[39m\u001b[39m\"\u001b[39m\u001b[39m{\u001b[39;00mvalue\u001b[39m}\u001b[39;00m\u001b[39m\"\u001b[39m\u001b[39m]\u001b[39m\u001b[39m'\u001b[39m\n\u001b[0;32m--> 830\u001b[0m \u001b[39mreturn\u001b[39;00m \u001b[39mself\u001b[39;49m\u001b[39m.\u001b[39;49mexecute(Command\u001b[39m.\u001b[39;49mFIND_ELEMENT, {\u001b[39m\"\u001b[39;49m\u001b[39musing\u001b[39;49m\u001b[39m\"\u001b[39;49m: by, \u001b[39m\"\u001b[39;49m\u001b[39mvalue\u001b[39;49m\u001b[39m\"\u001b[39;49m: value})[\u001b[39m\"\u001b[39m\u001b[39mvalue\u001b[39m\u001b[39m\"\u001b[39m]\n",
      "File \u001b[0;32m~/Library/Python/3.9/lib/python/site-packages/selenium/webdriver/remote/webdriver.py:440\u001b[0m, in \u001b[0;36mWebDriver.execute\u001b[0;34m(self, driver_command, params)\u001b[0m\n\u001b[1;32m    438\u001b[0m response \u001b[39m=\u001b[39m \u001b[39mself\u001b[39m\u001b[39m.\u001b[39mcommand_executor\u001b[39m.\u001b[39mexecute(driver_command, params)\n\u001b[1;32m    439\u001b[0m \u001b[39mif\u001b[39;00m response:\n\u001b[0;32m--> 440\u001b[0m     \u001b[39mself\u001b[39;49m\u001b[39m.\u001b[39;49merror_handler\u001b[39m.\u001b[39;49mcheck_response(response)\n\u001b[1;32m    441\u001b[0m     response[\u001b[39m\"\u001b[39m\u001b[39mvalue\u001b[39m\u001b[39m\"\u001b[39m] \u001b[39m=\u001b[39m \u001b[39mself\u001b[39m\u001b[39m.\u001b[39m_unwrap_value(response\u001b[39m.\u001b[39mget(\u001b[39m\"\u001b[39m\u001b[39mvalue\u001b[39m\u001b[39m\"\u001b[39m, \u001b[39mNone\u001b[39;00m))\n\u001b[1;32m    442\u001b[0m     \u001b[39mreturn\u001b[39;00m response\n",
      "File \u001b[0;32m~/Library/Python/3.9/lib/python/site-packages/selenium/webdriver/remote/errorhandler.py:245\u001b[0m, in \u001b[0;36mErrorHandler.check_response\u001b[0;34m(self, response)\u001b[0m\n\u001b[1;32m    243\u001b[0m         alert_text \u001b[39m=\u001b[39m value[\u001b[39m\"\u001b[39m\u001b[39malert\u001b[39m\u001b[39m\"\u001b[39m]\u001b[39m.\u001b[39mget(\u001b[39m\"\u001b[39m\u001b[39mtext\u001b[39m\u001b[39m\"\u001b[39m)\n\u001b[1;32m    244\u001b[0m     \u001b[39mraise\u001b[39;00m exception_class(message, screen, stacktrace, alert_text)  \u001b[39m# type: ignore[call-arg]  # mypy is not smart enough here\u001b[39;00m\n\u001b[0;32m--> 245\u001b[0m \u001b[39mraise\u001b[39;00m exception_class(message, screen, stacktrace)\n",
      "\u001b[0;31mNoSuchElementException\u001b[0m: Message: no such element: Unable to locate element: {\"method\":\"xpath\",\"selector\":\"/html/body/app-root/main/div/app-jeu-donnees/mat-card[2]/mat-card-content/app-jeu-donnees-category-list/div/div[4]/div[1]/p[1]\"}\n  (Session info: chrome=114.0.5735.90)\nStacktrace:\n0   chromedriver                        0x00000001046406b8 chromedriver + 4937400\n1   chromedriver                        0x0000000104637b73 chromedriver + 4901747\n2   chromedriver                        0x00000001041f5616 chromedriver + 435734\n3   chromedriver                        0x0000000104238e0f chromedriver + 712207\n4   chromedriver                        0x00000001042390a1 chromedriver + 712865\n5   chromedriver                        0x000000010427a9a4 chromedriver + 981412\n6   chromedriver                        0x000000010425d03d chromedriver + 860221\n7   chromedriver                        0x0000000104277e76 chromedriver + 970358\n8   chromedriver                        0x000000010425cde3 chromedriver + 859619\n9   chromedriver                        0x000000010422ad7f chromedriver + 654719\n10  chromedriver                        0x000000010422c0de chromedriver + 659678\n11  chromedriver                        0x00000001045fc2ad chromedriver + 4657837\n12  chromedriver                        0x0000000104601130 chromedriver + 4677936\n13  chromedriver                        0x0000000104607def chromedriver + 4705775\n14  chromedriver                        0x000000010460205a chromedriver + 4681818\n15  chromedriver                        0x00000001045d492c chromedriver + 4495660\n16  chromedriver                        0x000000010461f838 chromedriver + 4802616\n17  chromedriver                        0x000000010461f9b7 chromedriver + 4802999\n18  chromedriver                        0x000000010463099f chromedriver + 4872607\n19  libsystem_pthread.dylib             0x00007ff8053e7259 _pthread_start + 125\n20  libsystem_pthread.dylib             0x00007ff8053e2c7b thread_start + 15\n"
     ]
    }
   ],
   "source": [
    "driver.find_element(By.XPATH, '/html/body/app-root/main/div/app-jeu-donnees/mat-card[2]/mat-card-content/app-jeu-donnees-category-list/div/div[4]/div[1]/p[1]').click()\n",
    "time.sleep(1)\n",
    "names = driver.find_elements(By.CLASS_NAME, \"title\")\n",
    "values = driver.find_elements(By.CLASS_NAME, \"value\")\n",
    "    \n",
    "noms = []\n",
    "for name in names:\n",
    "    noms.append(name.text)\n",
    "                        \n",
    "valeurs = []  \n",
    "for value in values:\n",
    "    valeurs.append(value.text)\n",
    "\n",
    "# Create a temporary dataframe with the scraped data\n",
    "temp_df = pd.DataFrame({'name': noms, 'value': valeurs})\n",
    "\n",
    "# Append the temporary dataframe to the main dataframe\n",
    "df = df.append(temp_df, ignore_index=True)\n",
    "\n",
    "driver.find_element(By.XPATH, '/html/body/app-root/main/div/app-jeu-donnees/ul/li[4]/a').click()\n",
    "\n",
    "time.sleep(2)"
   ]
  },
  {
   "cell_type": "code",
   "execution_count": 92,
   "metadata": {},
   "outputs": [
    {
     "name": "stderr",
     "output_type": "stream",
     "text": [
      "/var/folders/rq/gbrjppds5pzc_g5hjfc4wvfc0000gn/T/ipykernel_29159/2521990284.py:18: FutureWarning: The frame.append method is deprecated and will be removed from pandas in a future version. Use pandas.concat instead.\n",
      "  df = df.append(temp_df, ignore_index=True)\n"
     ]
    }
   ],
   "source": [
    "driver.find_element(By.XPATH, '/html/body/app-root/main/div/app-jeu-donnees/mat-card[2]/mat-card-content/app-jeu-donnees-category-list/div/div[7]/div[1]/p[1]').click()\n",
    "time.sleep(3)\n",
    "names = driver.find_elements(By.CLASS_NAME, \"title\")\n",
    "values = driver.find_elements(By.CLASS_NAME, \"value\")\n",
    "    \n",
    "noms = []\n",
    "for name in names:\n",
    "    noms.append(name.text)\n",
    "                        \n",
    "valeurs = []  \n",
    "for value in values:\n",
    "    valeurs.append(value.text)\n",
    "\n",
    "# Create a temporary dataframe with the scraped data\n",
    "temp_df = pd.DataFrame({'name': noms, 'value': valeurs})\n",
    "\n",
    "# Append the temporary dataframe to the main dataframe\n",
    "df = df.append(temp_df, ignore_index=True)\n",
    "\n",
    "driver.find_element(By.XPATH, '/html/body/app-root/main/div/app-jeu-donnees/ul/li[4]/a').click()\n",
    "\n",
    "time.sleep(2)"
   ]
  },
  {
   "cell_type": "code",
   "execution_count": 99,
   "metadata": {},
   "outputs": [
    {
     "name": "stderr",
     "output_type": "stream",
     "text": [
      "/var/folders/rq/gbrjppds5pzc_g5hjfc4wvfc0000gn/T/ipykernel_29159/1459823408.py:20: FutureWarning: The frame.append method is deprecated and will be removed from pandas in a future version. Use pandas.concat instead.\n",
      "  df = df.append(temp_df, ignore_index=True)\n"
     ]
    }
   ],
   "source": [
    "driver.find_element(By.XPATH, '/html/body/app-root/main/div/app-jeu-donnees/mat-card[2]/mat-card-content/app-jeu-donnees-category-list/div/div[8]/div[1]/p[1]').click()\n",
    "time.sleep(1)\n",
    "driver.find_element(By.XPATH, '/html/body/app-root/main/div/app-jeu-donnees/mat-card[2]/mat-card-content/app-jeu-donnees-category-list/div/div[2]/div[1]/p[1]').click()\n",
    "time.sleep(3)\n",
    "names = driver.find_elements(By.CLASS_NAME, \"title\")\n",
    "values = driver.find_elements(By.CLASS_NAME, \"value\")\n",
    "    \n",
    "noms = []\n",
    "for name in names:\n",
    "    noms.append(name.text)\n",
    "                        \n",
    "valeurs = []  \n",
    "for value in values:\n",
    "    valeurs.append(value.text)\n",
    "\n",
    "# Create a temporary dataframe with the scraped data\n",
    "temp_df = pd.DataFrame({'name': noms, 'value': valeurs})\n",
    "\n",
    "# Append the temporary dataframe to the main dataframe\n",
    "df = df.append(temp_df, ignore_index=True)\n",
    "\n",
    "driver.find_element(By.XPATH, '/html/body/app-root/main/div/app-jeu-donnees/ul/li[5]/a').click()\n",
    "driver.find_element(By.XPATH, '/html/body/app-root/main/div/app-jeu-donnees/ul/li[4]/a').click()\n",
    "\n",
    "time.sleep(2)"
   ]
  },
  {
   "cell_type": "code",
   "execution_count": 101,
   "metadata": {},
   "outputs": [
    {
     "name": "stderr",
     "output_type": "stream",
     "text": [
      "/var/folders/rq/gbrjppds5pzc_g5hjfc4wvfc0000gn/T/ipykernel_29159/1317592895.py:18: FutureWarning: The frame.append method is deprecated and will be removed from pandas in a future version. Use pandas.concat instead.\n",
      "  df = df.append(temp_df, ignore_index=True)\n"
     ]
    }
   ],
   "source": [
    "driver.find_element(By.XPATH, '/html/body/app-root/main/div/app-jeu-donnees/mat-card[2]/mat-card-content/app-jeu-donnees-category-list/div/div[9]/div[1]/p[1]').click()\n",
    "time.sleep(1)\n",
    "names = driver.find_elements(By.CLASS_NAME, \"title\")\n",
    "values = driver.find_elements(By.CLASS_NAME, \"value\")\n",
    "    \n",
    "noms = []\n",
    "for name in names:\n",
    "    noms.append(name.text)\n",
    "                        \n",
    "valeurs = []  \n",
    "for value in values:\n",
    "    valeurs.append(value.text)\n",
    "\n",
    "# Create a temporary dataframe with the scraped data\n",
    "temp_df = pd.DataFrame({'name': noms, 'value': valeurs})\n",
    "\n",
    "# Append the temporary dataframe to the main dataframe\n",
    "df = df.append(temp_df, ignore_index=True)\n",
    "\n",
    "driver.find_element(By.XPATH, '/html/body/app-root/main/div/app-jeu-donnees/ul/li[4]/a').click()\n",
    "\n",
    "time.sleep(2)"
   ]
  },
  {
   "cell_type": "code",
   "execution_count": 102,
   "metadata": {},
   "outputs": [
    {
     "name": "stderr",
     "output_type": "stream",
     "text": [
      "/var/folders/rq/gbrjppds5pzc_g5hjfc4wvfc0000gn/T/ipykernel_29159/267562444.py:18: FutureWarning: The frame.append method is deprecated and will be removed from pandas in a future version. Use pandas.concat instead.\n",
      "  df = df.append(temp_df, ignore_index=True)\n"
     ]
    }
   ],
   "source": [
    "driver.find_element(By.XPATH, '/html/body/app-root/main/div/app-jeu-donnees/mat-card[2]/mat-card-content/app-jeu-donnees-category-list/div/div[10]/div[1]/p[1]').click()\n",
    "time.sleep(1)\n",
    "names = driver.find_elements(By.CLASS_NAME, \"title\")\n",
    "values = driver.find_elements(By.CLASS_NAME, \"value\")\n",
    "    \n",
    "noms = []\n",
    "for name in names:\n",
    "    noms.append(name.text)\n",
    "                        \n",
    "valeurs = []  \n",
    "for value in values:\n",
    "    valeurs.append(value.text)\n",
    "\n",
    "# Create a temporary dataframe with the scraped data\n",
    "temp_df = pd.DataFrame({'name': noms, 'value': valeurs})\n",
    "\n",
    "# Append the temporary dataframe to the main dataframe\n",
    "df = df.append(temp_df, ignore_index=True)\n",
    "\n",
    "driver.find_element(By.XPATH, '/html/body/app-root/main/div/app-jeu-donnees/ul/li[4]/a').click()\n",
    "\n",
    "time.sleep(2)"
   ]
  },
  {
   "cell_type": "code",
   "execution_count": 104,
   "metadata": {},
   "outputs": [],
   "source": [
    "df.drop_duplicates(keep = 'first', inplace=True)"
   ]
  },
  {
   "cell_type": "code",
   "execution_count": 105,
   "metadata": {},
   "outputs": [
    {
     "data": {
      "text/html": [
       "<div>\n",
       "<style scoped>\n",
       "    .dataframe tbody tr th:only-of-type {\n",
       "        vertical-align: middle;\n",
       "    }\n",
       "\n",
       "    .dataframe tbody tr th {\n",
       "        vertical-align: top;\n",
       "    }\n",
       "\n",
       "    .dataframe thead th {\n",
       "        text-align: right;\n",
       "    }\n",
       "</style>\n",
       "<table border=\"1\" class=\"dataframe\">\n",
       "  <thead>\n",
       "    <tr style=\"text-align: right;\">\n",
       "      <th></th>\n",
       "      <th>name</th>\n",
       "      <th>value</th>\n",
       "    </tr>\n",
       "  </thead>\n",
       "  <tbody>\n",
       "    <tr>\n",
       "      <th>0</th>\n",
       "      <td>Cargo/10 000 à 20 000 tonnes/HFO-MGO</td>\n",
       "      <td>0.0132</td>\n",
       "    </tr>\n",
       "    <tr>\n",
       "      <th>1</th>\n",
       "      <td>Cargo/&lt; 10 000 tonnes/HFO-MGO</td>\n",
       "      <td>0.0191</td>\n",
       "    </tr>\n",
       "    <tr>\n",
       "      <th>2</th>\n",
       "      <td>Ferry/de jour</td>\n",
       "      <td>0.0506</td>\n",
       "    </tr>\n",
       "    <tr>\n",
       "      <th>3</th>\n",
       "      <td>Ferry/de jour</td>\n",
       "      <td>495</td>\n",
       "    </tr>\n",
       "    <tr>\n",
       "      <th>4</th>\n",
       "      <td>Ferry/de nuit</td>\n",
       "      <td>0.0879</td>\n",
       "    </tr>\n",
       "    <tr>\n",
       "      <th>...</th>\n",
       "      <td>...</td>\n",
       "      <td>...</td>\n",
       "    </tr>\n",
       "    <tr>\n",
       "      <th>76</th>\n",
       "      <td>Vraquier/Handysize, de moins de 40250 tonnes d...</td>\n",
       "      <td>0.0112</td>\n",
       "    </tr>\n",
       "    <tr>\n",
       "      <th>77</th>\n",
       "      <td>Vraquier/Panamax, de 63500 à 127500 tonnes de ...</td>\n",
       "      <td>5.44e-3</td>\n",
       "    </tr>\n",
       "    <tr>\n",
       "      <th>78</th>\n",
       "      <td>Vraquier/Panamax, de 63500 à 127500 tonnes de ...</td>\n",
       "      <td>180</td>\n",
       "    </tr>\n",
       "    <tr>\n",
       "      <th>79</th>\n",
       "      <td>Vraquier/petit fluvio-maritime</td>\n",
       "      <td>49.3</td>\n",
       "    </tr>\n",
       "    <tr>\n",
       "      <th>80</th>\n",
       "      <td>Vraquier/petit fluvio-maritime</td>\n",
       "      <td>0.0188</td>\n",
       "    </tr>\n",
       "  </tbody>\n",
       "</table>\n",
       "<p>75 rows × 2 columns</p>\n",
       "</div>"
      ],
      "text/plain": [
       "                                                 name    value\n",
       "0                Cargo/10 000 à 20 000 tonnes/HFO-MGO   0.0132\n",
       "1                       Cargo/< 10 000 tonnes/HFO-MGO   0.0191\n",
       "2                                       Ferry/de jour   0.0506\n",
       "3                                       Ferry/de jour      495\n",
       "4                                       Ferry/de nuit   0.0879\n",
       "..                                                ...      ...\n",
       "76  Vraquier/Handysize, de moins de 40250 tonnes d...   0.0112\n",
       "77  Vraquier/Panamax, de 63500 à 127500 tonnes de ...  5.44e-3\n",
       "78  Vraquier/Panamax, de 63500 à 127500 tonnes de ...      180\n",
       "79                     Vraquier/petit fluvio-maritime     49.3\n",
       "80                     Vraquier/petit fluvio-maritime   0.0188\n",
       "\n",
       "[75 rows x 2 columns]"
      ]
     },
     "execution_count": 105,
     "metadata": {},
     "output_type": "execute_result"
    }
   ],
   "source": [
    "df"
   ]
  },
  {
   "cell_type": "code",
   "execution_count": 107,
   "metadata": {},
   "outputs": [
    {
     "name": "stdout",
     "output_type": "stream",
     "text": [
      "<class 'pandas.core.frame.DataFrame'>\n",
      "Int64Index: 75 entries, 0 to 80\n",
      "Data columns (total 2 columns):\n",
      " #   Column  Non-Null Count  Dtype \n",
      "---  ------  --------------  ----- \n",
      " 0   name    75 non-null     object\n",
      " 1   value   75 non-null     object\n",
      "dtypes: object(2)\n",
      "memory usage: 1.8+ KB\n"
     ]
    }
   ],
   "source": [
    "df.info()"
   ]
  },
  {
   "cell_type": "code",
   "execution_count": 108,
   "metadata": {},
   "outputs": [],
   "source": [
    "df['value'] = df['value'].astype(float)\n",
    "\n",
    "# Filter out lines where the value is greater than 1\n",
    "df = df[df['value'] <= 1]"
   ]
  },
  {
   "cell_type": "code",
   "execution_count": 110,
   "metadata": {},
   "outputs": [],
   "source": [
    "df.to_csv(\"maritime.csv\", sep=';', index=False)"
   ]
  },
  {
   "cell_type": "code",
   "execution_count": null,
   "metadata": {},
   "outputs": [],
   "source": []
  }
 ],
 "metadata": {
  "kernelspec": {
   "display_name": "Python 3",
   "language": "python",
   "name": "python3"
  },
  "language_info": {
   "codemirror_mode": {
    "name": "ipython",
    "version": 3
   },
   "file_extension": ".py",
   "mimetype": "text/x-python",
   "name": "python",
   "nbconvert_exporter": "python",
   "pygments_lexer": "ipython3",
   "version": "3.9.6"
  },
  "orig_nbformat": 4
 },
 "nbformat": 4,
 "nbformat_minor": 2
}
