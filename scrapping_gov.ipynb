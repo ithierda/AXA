{
 "cells": [
  {
   "attachments": {},
   "cell_type": "markdown",
   "metadata": {},
   "source": [
    "## Import the packages required"
   ]
  },
  {
   "cell_type": "code",
   "execution_count": 1,
   "metadata": {},
   "outputs": [],
   "source": [
    "from selenium import webdriver\n",
    "import pandas as pd\n",
    "from selenium.webdriver.common.by import By\n",
    "import csv\n",
    "import time\n",
    "import re"
   ]
  },
  {
   "attachments": {},
   "cell_type": "markdown",
   "metadata": {},
   "source": [
    "### Define the website for the scrapping"
   ]
  },
  {
   "cell_type": "code",
   "execution_count": 2,
   "metadata": {},
   "outputs": [],
   "source": [
    "driver = webdriver.Chrome()\n",
    "driver.get(\"https://base-empreinte.ademe.fr/\")"
   ]
  },
  {
   "attachments": {},
   "cell_type": "markdown",
   "metadata": {},
   "source": [
    "### Create a dataframe"
   ]
  },
  {
   "cell_type": "code",
   "execution_count": 3,
   "metadata": {},
   "outputs": [],
   "source": [
    "#df = pd.DataFrame()\n",
    "#df['Type of food'] = None\n",
    "#df['Name of the food'] = None\n",
    "#df['kg CO2e / kg'] = None"
   ]
  },
  {
   "attachments": {},
   "cell_type": "markdown",
   "metadata": {},
   "source": [
    "### Have access to the database"
   ]
  },
  {
   "cell_type": "code",
   "execution_count": 4,
   "metadata": {},
   "outputs": [],
   "source": [
    "time.sleep(3)\n",
    "driver.find_element(By.XPATH, '/html/body/app-root/main/div/app-home/div/div[1]/div/div[1]/a[1]/span[1]/mat-icon').click()\n",
    "time.sleep(3)\n",
    "driver.find_element(By.XPATH, '/html/body/app-root/main/div/app-page-login-signup/app-form-login-signup/mat-card/mat-card-actions/div[2]/button/span[1]').click()\n",
    "time.sleep(3)\n",
    "\n"
   ]
  },
  {
   "attachments": {},
   "cell_type": "markdown",
   "metadata": {},
   "source": [
    "### Login the website"
   ]
  },
  {
   "cell_type": "code",
   "execution_count": 5,
   "metadata": {},
   "outputs": [],
   "source": [
    "user_id = 'ithier.da@gmail.com'\n",
    "passw = 'Titouille@2004!'\n",
    "input_name = driver.find_element(By.XPATH,'//*[@id=\"username\"]')\n",
    "input_name.send_keys(user_id)\n",
    "input_passw = driver.find_element(By.XPATH,'//*[@id=\"password\"]')\n",
    "input_passw.send_keys(passw)\n",
    "driver.find_element(By.XPATH, '//*[@id=\"kc-login\"]').click()"
   ]
  },
  {
   "attachments": {},
   "cell_type": "markdown",
   "metadata": {},
   "source": [
    "## Have access to the website again"
   ]
  },
  {
   "cell_type": "code",
   "execution_count": 6,
   "metadata": {},
   "outputs": [],
   "source": [
    "driver.find_element(By.XPATH, '/html/body/app-root/main/div/app-home/div/div[1]/div/div[1]/a[1]/span[1]').click()"
   ]
  },
  {
   "attachments": {},
   "cell_type": "markdown",
   "metadata": {},
   "source": [
    "### Scroll to the informations"
   ]
  },
  {
   "cell_type": "code",
   "execution_count": 7,
   "metadata": {},
   "outputs": [],
   "source": [
    "from selenium.webdriver.common.action_chains import ActionChains"
   ]
  },
  {
   "cell_type": "code",
   "execution_count": 8,
   "metadata": {},
   "outputs": [],
   "source": [
    "driver.execute_script(\"window.scrollBy(0,document.body.scrollHeight)\")"
   ]
  },
  {
   "attachments": {},
   "cell_type": "markdown",
   "metadata": {},
   "source": [
    "### Have access to the food part"
   ]
  },
  {
   "cell_type": "code",
   "execution_count": 9,
   "metadata": {},
   "outputs": [],
   "source": [
    "\n",
    "## accept the cookies\n",
    "driver.find_element(By.XPATH, '//*[@id=\"tarteaucitronPersonalize2\"]').click()\n",
    "time.sleep(3)\n",
    "\n",
    "driver.find_element(By.XPATH, \"/html/body/app-root/main/div/app-jeu-donnees/mat-card[2]/mat-card-content/app-jeu-donnees-category-list/div/div[4]/div[1]/p[1]\").click()\n",
    "time.sleep(1)\n",
    "driver.execute_script(\"window.scrollBy(0,document.body.scrollHeight)\")\n",
    "driver.find_element(By.XPATH, \"/html/body/app-root/main/div/app-jeu-donnees/mat-card[2]/mat-card-content/app-jeu-donnees-category-list/div/div[1]/div[1]/p[1]\").click()\n",
    "time.sleep(1)\n",
    "driver.execute_script(\"window.scrollBy(0,document.body.scrollHeight)\")\n",
    "driver.find_element(By.XPATH, \"/html/body/app-root/main/div/app-jeu-donnees/mat-card[2]/mat-card-content/app-jeu-donnees-category-list/div/div[12]/div[1]/p[1]\").click()\n",
    "time.sleep(1)\n",
    "driver.execute_script(\"window.scrollBy(0,document.body.scrollHeight)\")\n",
    "driver.find_element(By.XPATH, \"/html/body/app-root/main/div/app-jeu-donnees/div/button/span[1]/mat-icon\").click()\n",
    "time.sleep(1)\n",
    "driver.execute_script(\"window.scrollBy(0,document.body.scrollHeight)\")\n",
    "driver.find_element(By.XPATH, \"/html/body/app-root/main/div/app-jeu-donnees/mat-card[2]/mat-card-content/app-jeu-donnees-category-list/div/div[12]/div[1]\").click()\n",
    "time.sleep(1)"
   ]
  },
  {
   "cell_type": "code",
   "execution_count": 10,
   "metadata": {},
   "outputs": [],
   "source": [
    "df = pd.DataFrame()\n",
    "df['food'] = None\n",
    "df['kg CO2e / kg'] = None"
   ]
  },
  {
   "attachments": {},
   "cell_type": "markdown",
   "metadata": {},
   "source": [
    "## Autres produits à base de viande"
   ]
  },
  {
   "cell_type": "code",
   "execution_count": 11,
   "metadata": {},
   "outputs": [
    {
     "name": "stderr",
     "output_type": "stream",
     "text": [
      "/var/folders/rq/gbrjppds5pzc_g5hjfc4wvfc0000gn/T/ipykernel_96388/3202863042.py:18: FutureWarning: The frame.append method is deprecated and will be removed from pandas in a future version. Use pandas.concat instead.\n",
      "  df = df.append(temp_df, ignore_index=True)\n"
     ]
    }
   ],
   "source": [
    "driver.find_element(By.XPATH, '/html/body/app-root/main/div/app-jeu-donnees/mat-card[2]/mat-card-content/app-jeu-donnees-category-list/div/div[1]/div[1]/p[1]').click()\n",
    "time.sleep(1)\n",
    "names = driver.find_elements(By.CLASS_NAME, \"title\")\n",
    "values = driver.find_elements(By.CLASS_NAME, \"value\")\n",
    "\n",
    "noms = []\n",
    "for name in names:\n",
    "    noms.append(name.text)\n",
    "\n",
    "valeurs = []  \n",
    "for value in values:\n",
    "    valeurs.append(value.text)\n",
    "\n",
    "# Create a temporary dataframe with the scraped data\n",
    "temp_df = pd.DataFrame({'food': noms, 'kg CO2e / kg': valeurs})\n",
    "\n",
    "# Append the temporary dataframe to the main dataframe\n",
    "df = df.append(temp_df, ignore_index=True)\n",
    "\n",
    "driver.find_element(By.XPATH, \"/html/body/app-root/main/div/app-jeu-donnees/ul/li[5]/a\").click()\n",
    "time.sleep(1)\n"
   ]
  },
  {
   "attachments": {},
   "cell_type": "markdown",
   "metadata": {},
   "source": [
    "## Charcuterie"
   ]
  },
  {
   "cell_type": "code",
   "execution_count": 12,
   "metadata": {},
   "outputs": [
    {
     "name": "stderr",
     "output_type": "stream",
     "text": [
      "/var/folders/rq/gbrjppds5pzc_g5hjfc4wvfc0000gn/T/ipykernel_96388/3140052809.py:18: FutureWarning: The frame.append method is deprecated and will be removed from pandas in a future version. Use pandas.concat instead.\n",
      "  df = df.append(temp_df, ignore_index=True)\n"
     ]
    }
   ],
   "source": [
    "driver.find_element(By.XPATH, '/html/body/app-root/main/div/app-jeu-donnees/mat-card[2]/mat-card-content/app-jeu-donnees-category-list/div/div[2]/div[1]/p[1]').click()\n",
    "time.sleep(1)\n",
    "names = driver.find_elements(By.CLASS_NAME, \"title\")\n",
    "values = driver.find_elements(By.CLASS_NAME, \"value\")\n",
    "\n",
    "noms = []\n",
    "for name in names:\n",
    "    noms.append(name.text)\n",
    "\n",
    "valeurs = []  \n",
    "for value in values:\n",
    "    valeurs.append(value.text)\n",
    "\n",
    "# Create a temporary dataframe with the scraped data\n",
    "temp_df = pd.DataFrame({'food': noms, 'kg CO2e / kg': valeurs})\n",
    "\n",
    "# Append the temporary dataframe to the main dataframe\n",
    "df = df.append(temp_df, ignore_index=True)\n",
    "\n",
    "driver.find_element(By.XPATH, \"/html/body/app-root/main/div/app-jeu-donnees/ul/li[5]/a\").click()\n",
    "time.sleep(1)"
   ]
  },
  {
   "attachments": {},
   "cell_type": "markdown",
   "metadata": {},
   "source": [
    "## Mollusques et crustacés crus"
   ]
  },
  {
   "cell_type": "code",
   "execution_count": 13,
   "metadata": {},
   "outputs": [
    {
     "name": "stderr",
     "output_type": "stream",
     "text": [
      "/var/folders/rq/gbrjppds5pzc_g5hjfc4wvfc0000gn/T/ipykernel_96388/370413545.py:18: FutureWarning: The frame.append method is deprecated and will be removed from pandas in a future version. Use pandas.concat instead.\n",
      "  df = df.append(temp_df, ignore_index=True)\n"
     ]
    }
   ],
   "source": [
    "driver.find_element(By.XPATH, '/html/body/app-root/main/div/app-jeu-donnees/mat-card[2]/mat-card-content/app-jeu-donnees-category-list/div/div[3]/div[1]/p[1]').click()\n",
    "time.sleep(1)\n",
    "names = driver.find_elements(By.CLASS_NAME, \"title\")\n",
    "values = driver.find_elements(By.CLASS_NAME, \"value\")\n",
    "\n",
    "noms = []\n",
    "for name in names:\n",
    "    noms.append(name.text)\n",
    "\n",
    "valeurs = []  \n",
    "for value in values:\n",
    "    valeurs.append(value.text)\n",
    "\n",
    "# Create a temporary dataframe with the scraped data\n",
    "temp_df = pd.DataFrame({'food': noms, 'kg CO2e / kg': valeurs})\n",
    "\n",
    "# Append the temporary dataframe to the main dataframe\n",
    "df = df.append(temp_df, ignore_index=True)\n",
    "\n",
    "driver.find_element(By.XPATH, \"/html/body/app-root/main/div/app-jeu-donnees/ul/li[5]/a\").click()\n",
    "time.sleep(1)"
   ]
  },
  {
   "attachments": {},
   "cell_type": "markdown",
   "metadata": {},
   "source": [
    "## Mollusques et crustacées cuits"
   ]
  },
  {
   "cell_type": "code",
   "execution_count": 14,
   "metadata": {},
   "outputs": [
    {
     "ename": "StaleElementReferenceException",
     "evalue": "Message: stale element reference: stale element not found\n  (Session info: chrome=113.0.5672.126)\nStacktrace:\n0   chromedriver                        0x0000000104693598 chromedriver + 4973976\n1   chromedriver                        0x000000010468a913 chromedriver + 4938003\n2   chromedriver                        0x0000000104247cd6 chromedriver + 470230\n3   chromedriver                        0x000000010424d0e8 chromedriver + 491752\n4   chromedriver                        0x000000010424f187 chromedriver + 500103\n5   chromedriver                        0x000000010424f28c chromedriver + 500364\n6   chromedriver                        0x00000001042850a2 chromedriver + 721058\n7   chromedriver                        0x00000001042af9c2 chromedriver + 895426\n8   chromedriver                        0x000000010427ee51 chromedriver + 695889\n9   chromedriver                        0x00000001042afb7e chromedriver + 895870\n10  chromedriver                        0x00000001042ca856 chromedriver + 1005654\n11  chromedriver                        0x00000001042af793 chromedriver + 894867\n12  chromedriver                        0x000000010427d21f chromedriver + 688671\n13  chromedriver                        0x000000010427e56e chromedriver + 693614\n14  chromedriver                        0x000000010464dbb7 chromedriver + 4688823\n15  chromedriver                        0x0000000104652a51 chromedriver + 4708945\n16  chromedriver                        0x000000010465940f chromedriver + 4736015\n17  chromedriver                        0x000000010465391a chromedriver + 4712730\n18  chromedriver                        0x000000010462687c chromedriver + 4528252\n19  chromedriver                        0x0000000104672f28 chromedriver + 4841256\n20  chromedriver                        0x00000001046730a7 chromedriver + 4841639\n21  chromedriver                        0x000000010468428f chromedriver + 4911759\n22  libsystem_pthread.dylib             0x00007ff8053e7259 _pthread_start + 125\n23  libsystem_pthread.dylib             0x00007ff8053e2c7b thread_start + 15\n",
     "output_type": "error",
     "traceback": [
      "\u001b[0;31m---------------------------------------------------------------------------\u001b[0m",
      "\u001b[0;31mStaleElementReferenceException\u001b[0m            Traceback (most recent call last)",
      "Cell \u001b[0;32mIn[14], line 8\u001b[0m\n\u001b[1;32m      6\u001b[0m noms \u001b[39m=\u001b[39m []\n\u001b[1;32m      7\u001b[0m \u001b[39mfor\u001b[39;00m name \u001b[39min\u001b[39;00m names:\n\u001b[0;32m----> 8\u001b[0m     noms\u001b[39m.\u001b[39mappend(name\u001b[39m.\u001b[39;49mtext)\n\u001b[1;32m     10\u001b[0m valeurs \u001b[39m=\u001b[39m []  \n\u001b[1;32m     11\u001b[0m \u001b[39mfor\u001b[39;00m value \u001b[39min\u001b[39;00m values:\n",
      "File \u001b[0;32m~/Library/Python/3.9/lib/python/site-packages/selenium/webdriver/remote/webelement.py:89\u001b[0m, in \u001b[0;36mWebElement.text\u001b[0;34m(self)\u001b[0m\n\u001b[1;32m     86\u001b[0m \u001b[39m@property\u001b[39m\n\u001b[1;32m     87\u001b[0m \u001b[39mdef\u001b[39;00m \u001b[39mtext\u001b[39m(\u001b[39mself\u001b[39m) \u001b[39m-\u001b[39m\u001b[39m>\u001b[39m \u001b[39mstr\u001b[39m:\n\u001b[1;32m     88\u001b[0m \u001b[39m    \u001b[39m\u001b[39m\"\"\"The text of the element.\"\"\"\u001b[39;00m\n\u001b[0;32m---> 89\u001b[0m     \u001b[39mreturn\u001b[39;00m \u001b[39mself\u001b[39;49m\u001b[39m.\u001b[39;49m_execute(Command\u001b[39m.\u001b[39;49mGET_ELEMENT_TEXT)[\u001b[39m\"\u001b[39m\u001b[39mvalue\u001b[39m\u001b[39m\"\u001b[39m]\n",
      "File \u001b[0;32m~/Library/Python/3.9/lib/python/site-packages/selenium/webdriver/remote/webelement.py:403\u001b[0m, in \u001b[0;36mWebElement._execute\u001b[0;34m(self, command, params)\u001b[0m\n\u001b[1;32m    401\u001b[0m     params \u001b[39m=\u001b[39m {}\n\u001b[1;32m    402\u001b[0m params[\u001b[39m\"\u001b[39m\u001b[39mid\u001b[39m\u001b[39m\"\u001b[39m] \u001b[39m=\u001b[39m \u001b[39mself\u001b[39m\u001b[39m.\u001b[39m_id\n\u001b[0;32m--> 403\u001b[0m \u001b[39mreturn\u001b[39;00m \u001b[39mself\u001b[39;49m\u001b[39m.\u001b[39;49m_parent\u001b[39m.\u001b[39;49mexecute(command, params)\n",
      "File \u001b[0;32m~/Library/Python/3.9/lib/python/site-packages/selenium/webdriver/remote/webdriver.py:440\u001b[0m, in \u001b[0;36mWebDriver.execute\u001b[0;34m(self, driver_command, params)\u001b[0m\n\u001b[1;32m    438\u001b[0m response \u001b[39m=\u001b[39m \u001b[39mself\u001b[39m\u001b[39m.\u001b[39mcommand_executor\u001b[39m.\u001b[39mexecute(driver_command, params)\n\u001b[1;32m    439\u001b[0m \u001b[39mif\u001b[39;00m response:\n\u001b[0;32m--> 440\u001b[0m     \u001b[39mself\u001b[39;49m\u001b[39m.\u001b[39;49merror_handler\u001b[39m.\u001b[39;49mcheck_response(response)\n\u001b[1;32m    441\u001b[0m     response[\u001b[39m\"\u001b[39m\u001b[39mvalue\u001b[39m\u001b[39m\"\u001b[39m] \u001b[39m=\u001b[39m \u001b[39mself\u001b[39m\u001b[39m.\u001b[39m_unwrap_value(response\u001b[39m.\u001b[39mget(\u001b[39m\"\u001b[39m\u001b[39mvalue\u001b[39m\u001b[39m\"\u001b[39m, \u001b[39mNone\u001b[39;00m))\n\u001b[1;32m    442\u001b[0m     \u001b[39mreturn\u001b[39;00m response\n",
      "File \u001b[0;32m~/Library/Python/3.9/lib/python/site-packages/selenium/webdriver/remote/errorhandler.py:245\u001b[0m, in \u001b[0;36mErrorHandler.check_response\u001b[0;34m(self, response)\u001b[0m\n\u001b[1;32m    243\u001b[0m         alert_text \u001b[39m=\u001b[39m value[\u001b[39m\"\u001b[39m\u001b[39malert\u001b[39m\u001b[39m\"\u001b[39m]\u001b[39m.\u001b[39mget(\u001b[39m\"\u001b[39m\u001b[39mtext\u001b[39m\u001b[39m\"\u001b[39m)\n\u001b[1;32m    244\u001b[0m     \u001b[39mraise\u001b[39;00m exception_class(message, screen, stacktrace, alert_text)  \u001b[39m# type: ignore[call-arg]  # mypy is not smart enough here\u001b[39;00m\n\u001b[0;32m--> 245\u001b[0m \u001b[39mraise\u001b[39;00m exception_class(message, screen, stacktrace)\n",
      "\u001b[0;31mStaleElementReferenceException\u001b[0m: Message: stale element reference: stale element not found\n  (Session info: chrome=113.0.5672.126)\nStacktrace:\n0   chromedriver                        0x0000000104693598 chromedriver + 4973976\n1   chromedriver                        0x000000010468a913 chromedriver + 4938003\n2   chromedriver                        0x0000000104247cd6 chromedriver + 470230\n3   chromedriver                        0x000000010424d0e8 chromedriver + 491752\n4   chromedriver                        0x000000010424f187 chromedriver + 500103\n5   chromedriver                        0x000000010424f28c chromedriver + 500364\n6   chromedriver                        0x00000001042850a2 chromedriver + 721058\n7   chromedriver                        0x00000001042af9c2 chromedriver + 895426\n8   chromedriver                        0x000000010427ee51 chromedriver + 695889\n9   chromedriver                        0x00000001042afb7e chromedriver + 895870\n10  chromedriver                        0x00000001042ca856 chromedriver + 1005654\n11  chromedriver                        0x00000001042af793 chromedriver + 894867\n12  chromedriver                        0x000000010427d21f chromedriver + 688671\n13  chromedriver                        0x000000010427e56e chromedriver + 693614\n14  chromedriver                        0x000000010464dbb7 chromedriver + 4688823\n15  chromedriver                        0x0000000104652a51 chromedriver + 4708945\n16  chromedriver                        0x000000010465940f chromedriver + 4736015\n17  chromedriver                        0x000000010465391a chromedriver + 4712730\n18  chromedriver                        0x000000010462687c chromedriver + 4528252\n19  chromedriver                        0x0000000104672f28 chromedriver + 4841256\n20  chromedriver                        0x00000001046730a7 chromedriver + 4841639\n21  chromedriver                        0x000000010468428f chromedriver + 4911759\n22  libsystem_pthread.dylib             0x00007ff8053e7259 _pthread_start + 125\n23  libsystem_pthread.dylib             0x00007ff8053e2c7b thread_start + 15\n"
     ]
    }
   ],
   "source": [
    "driver.find_element(By.XPATH, '/html/body/app-root/main/div/app-jeu-donnees/mat-card[2]/mat-card-content/app-jeu-donnees-category-list/div/div[4]/div[1]/p[1]').click()\n",
    "time.sleep(1)\n",
    "names = driver.find_elements(By.CLASS_NAME, \"title\")\n",
    "values = driver.find_elements(By.CLASS_NAME, \"value\")\n",
    "\n",
    "noms = []\n",
    "for name in names:\n",
    "    noms.append(name.text)\n",
    "\n",
    "valeurs = []  \n",
    "for value in values:\n",
    "    valeurs.append(value.text)\n",
    "\n",
    "# Create a temporary dataframe with the scraped data\n",
    "temp_df = pd.DataFrame({'food': noms, 'kg CO2e / kg': valeurs})\n",
    "\n",
    "# Append the temporary dataframe to the main dataframe\n",
    "df = df.append(temp_df, ignore_index=True)\n",
    "\n",
    "driver.find_element(By.XPATH, \"/html/body/app-root/main/div/app-jeu-donnees/ul/li[5]/a\").click()\n",
    "time.sleep(3)"
   ]
  },
  {
   "cell_type": "code",
   "execution_count": null,
   "metadata": {},
   "outputs": [],
   "source": [
    "driver.execute_script(\"window.scrollBy(0,document.body.scrollHeight)\")"
   ]
  },
  {
   "attachments": {},
   "cell_type": "markdown",
   "metadata": {},
   "source": [
    "## Oeufs"
   ]
  },
  {
   "cell_type": "code",
   "execution_count": null,
   "metadata": {},
   "outputs": [],
   "source": [
    "df2 = pd.DataFrame()\n",
    "df2['food'] = None\n",
    "df2['kg CO2e / kg'] = None"
   ]
  },
  {
   "cell_type": "code",
   "execution_count": null,
   "metadata": {},
   "outputs": [
    {
     "name": "stderr",
     "output_type": "stream",
     "text": [
      "/var/folders/rq/gbrjppds5pzc_g5hjfc4wvfc0000gn/T/ipykernel_85831/367906832.py:17: FutureWarning: The frame.append method is deprecated and will be removed from pandas in a future version. Use pandas.concat instead.\n",
      "  df2 = df2.append(temp_df, ignore_index=True)\n"
     ]
    }
   ],
   "source": [
    "time.sleep(2)\n",
    "names = driver.find_elements(By.CLASS_NAME, \"title\")\n",
    "values = driver.find_elements(By.CLASS_NAME, \"value\")\n",
    "\n",
    "noms = []\n",
    "for name in names:\n",
    "    noms.append(name.text)\n",
    "\n",
    "valeurs = []  \n",
    "for value in values:\n",
    "    valeurs.append(value.text)\n",
    "\n",
    "# Create a temporary dataframe with the scraped data\n",
    "temp_df = pd.DataFrame({'food': noms, 'kg CO2e / kg': valeurs})\n",
    "\n",
    "# Append the temporary dataframe to the main dataframe\n",
    "df2 = df2.append(temp_df, ignore_index=True)\n",
    "\n",
    "time.sleep(1)"
   ]
  },
  {
   "cell_type": "code",
   "execution_count": null,
   "metadata": {},
   "outputs": [
    {
     "data": {
      "text/html": [
       "<div>\n",
       "<style scoped>\n",
       "    .dataframe tbody tr th:only-of-type {\n",
       "        vertical-align: middle;\n",
       "    }\n",
       "\n",
       "    .dataframe tbody tr th {\n",
       "        vertical-align: top;\n",
       "    }\n",
       "\n",
       "    .dataframe thead th {\n",
       "        text-align: right;\n",
       "    }\n",
       "</style>\n",
       "<table border=\"1\" class=\"dataframe\">\n",
       "  <thead>\n",
       "    <tr style=\"text-align: right;\">\n",
       "      <th></th>\n",
       "      <th>food</th>\n",
       "      <th>kg CO2e / kg</th>\n",
       "    </tr>\n",
       "  </thead>\n",
       "  <tbody>\n",
       "    <tr>\n",
       "      <th>0</th>\n",
       "      <td>Andouille</td>\n",
       "      <td>16.2</td>\n",
       "    </tr>\n",
       "    <tr>\n",
       "      <th>1</th>\n",
       "      <td>Andouille de Guéméné</td>\n",
       "      <td>16.2</td>\n",
       "    </tr>\n",
       "    <tr>\n",
       "      <th>2</th>\n",
       "      <td>Andouille de Vire</td>\n",
       "      <td>16.2</td>\n",
       "    </tr>\n",
       "    <tr>\n",
       "      <th>3</th>\n",
       "      <td>Andouille/réchauffée à la poêle</td>\n",
       "      <td>16.2</td>\n",
       "    </tr>\n",
       "    <tr>\n",
       "      <th>4</th>\n",
       "      <td>Andouillette/crue</td>\n",
       "      <td>16.1</td>\n",
       "    </tr>\n",
       "    <tr>\n",
       "      <th>...</th>\n",
       "      <td>...</td>\n",
       "      <td>...</td>\n",
       "    </tr>\n",
       "    <tr>\n",
       "      <th>280</th>\n",
       "      <td>[Obsolète] Tranchage et conditionnement; de ja...</td>\n",
       "      <td>0.165</td>\n",
       "    </tr>\n",
       "    <tr>\n",
       "      <th>281</th>\n",
       "      <td>[Obsolète] Tranchage et conditionnement; de ja...</td>\n",
       "      <td>0.462</td>\n",
       "    </tr>\n",
       "    <tr>\n",
       "      <th>282</th>\n",
       "      <td>[Obsolète] Tranchage et conditionnement; de ja...</td>\n",
       "      <td>0.165</td>\n",
       "    </tr>\n",
       "    <tr>\n",
       "      <th>283</th>\n",
       "      <td>[Obsolète] Tranchage et conditionnement; de ja...</td>\n",
       "      <td>0.165</td>\n",
       "    </tr>\n",
       "    <tr>\n",
       "      <th>284</th>\n",
       "      <td>[Obsolète] Tranchage et conditionnement; de ja...</td>\n",
       "      <td>0.0183</td>\n",
       "    </tr>\n",
       "  </tbody>\n",
       "</table>\n",
       "<p>285 rows × 2 columns</p>\n",
       "</div>"
      ],
      "text/plain": [
       "                                                  food kg CO2e / kg\n",
       "0                                            Andouille         16.2\n",
       "1                                 Andouille de Guéméné         16.2\n",
       "2                                    Andouille de Vire         16.2\n",
       "3                      Andouille/réchauffée à la poêle         16.2\n",
       "4                                    Andouillette/crue         16.1\n",
       "..                                                 ...          ...\n",
       "280  [Obsolète] Tranchage et conditionnement; de ja...        0.165\n",
       "281  [Obsolète] Tranchage et conditionnement; de ja...        0.462\n",
       "282  [Obsolète] Tranchage et conditionnement; de ja...        0.165\n",
       "283  [Obsolète] Tranchage et conditionnement; de ja...        0.165\n",
       "284  [Obsolète] Tranchage et conditionnement; de ja...       0.0183\n",
       "\n",
       "[285 rows x 2 columns]"
      ]
     },
     "execution_count": 353,
     "metadata": {},
     "output_type": "execute_result"
    }
   ],
   "source": [
    "df2"
   ]
  },
  {
   "cell_type": "code",
   "execution_count": null,
   "metadata": {},
   "outputs": [],
   "source": [
    "df = df2[~df2['food'].str.contains('Obsolète')]"
   ]
  },
  {
   "cell_type": "code",
   "execution_count": null,
   "metadata": {},
   "outputs": [
    {
     "data": {
      "text/html": [
       "<div>\n",
       "<style scoped>\n",
       "    .dataframe tbody tr th:only-of-type {\n",
       "        vertical-align: middle;\n",
       "    }\n",
       "\n",
       "    .dataframe tbody tr th {\n",
       "        vertical-align: top;\n",
       "    }\n",
       "\n",
       "    .dataframe thead th {\n",
       "        text-align: right;\n",
       "    }\n",
       "</style>\n",
       "<table border=\"1\" class=\"dataframe\">\n",
       "  <thead>\n",
       "    <tr style=\"text-align: right;\">\n",
       "      <th></th>\n",
       "      <th>food</th>\n",
       "      <th>kg CO2e / kg</th>\n",
       "    </tr>\n",
       "  </thead>\n",
       "  <tbody>\n",
       "    <tr>\n",
       "      <th>0</th>\n",
       "      <td>Andouille</td>\n",
       "      <td>16.2</td>\n",
       "    </tr>\n",
       "    <tr>\n",
       "      <th>1</th>\n",
       "      <td>Andouille de Guéméné</td>\n",
       "      <td>16.2</td>\n",
       "    </tr>\n",
       "    <tr>\n",
       "      <th>2</th>\n",
       "      <td>Andouille de Vire</td>\n",
       "      <td>16.2</td>\n",
       "    </tr>\n",
       "    <tr>\n",
       "      <th>3</th>\n",
       "      <td>Andouille/réchauffée à la poêle</td>\n",
       "      <td>16.2</td>\n",
       "    </tr>\n",
       "    <tr>\n",
       "      <th>4</th>\n",
       "      <td>Andouillette/crue</td>\n",
       "      <td>16.1</td>\n",
       "    </tr>\n",
       "    <tr>\n",
       "      <th>...</th>\n",
       "      <td>...</td>\n",
       "      <td>...</td>\n",
       "    </tr>\n",
       "    <tr>\n",
       "      <th>245</th>\n",
       "      <td>Saucisson sec aux noix et/ou noisettes</td>\n",
       "      <td>5.45</td>\n",
       "    </tr>\n",
       "    <tr>\n",
       "      <th>246</th>\n",
       "      <td>Saucisson sec pur porc</td>\n",
       "      <td>5.40</td>\n",
       "    </tr>\n",
       "    <tr>\n",
       "      <th>247</th>\n",
       "      <td>Saucisson sec pur porc/qualité supérieure</td>\n",
       "      <td>5.40</td>\n",
       "    </tr>\n",
       "    <tr>\n",
       "      <th>248</th>\n",
       "      <td>Terrine de canard</td>\n",
       "      <td>6.18</td>\n",
       "    </tr>\n",
       "    <tr>\n",
       "      <th>249</th>\n",
       "      <td>Terrine de lapin</td>\n",
       "      <td>5.21</td>\n",
       "    </tr>\n",
       "  </tbody>\n",
       "</table>\n",
       "<p>250 rows × 2 columns</p>\n",
       "</div>"
      ],
      "text/plain": [
       "                                          food kg CO2e / kg\n",
       "0                                    Andouille         16.2\n",
       "1                         Andouille de Guéméné         16.2\n",
       "2                            Andouille de Vire         16.2\n",
       "3              Andouille/réchauffée à la poêle         16.2\n",
       "4                            Andouillette/crue         16.1\n",
       "..                                         ...          ...\n",
       "245     Saucisson sec aux noix et/ou noisettes         5.45\n",
       "246                     Saucisson sec pur porc         5.40\n",
       "247  Saucisson sec pur porc/qualité supérieure         5.40\n",
       "248                          Terrine de canard         6.18\n",
       "249                           Terrine de lapin         5.21\n",
       "\n",
       "[250 rows x 2 columns]"
      ]
     },
     "execution_count": 355,
     "metadata": {},
     "output_type": "execute_result"
    }
   ],
   "source": [
    "df"
   ]
  },
  {
   "cell_type": "code",
   "execution_count": null,
   "metadata": {},
   "outputs": [],
   "source": [
    "#df.to_csv(\"meat.csv\", sep=';', index=False)"
   ]
  },
  {
   "cell_type": "code",
   "execution_count": null,
   "metadata": {},
   "outputs": [],
   "source": []
  }
 ],
 "metadata": {
  "kernelspec": {
   "display_name": "Python 3",
   "language": "python",
   "name": "python3"
  },
  "language_info": {
   "codemirror_mode": {
    "name": "ipython",
    "version": 3
   },
   "file_extension": ".py",
   "mimetype": "text/x-python",
   "name": "python",
   "nbconvert_exporter": "python",
   "pygments_lexer": "ipython3",
   "version": "3.9.6"
  },
  "orig_nbformat": 4
 },
 "nbformat": 4,
 "nbformat_minor": 2
}
